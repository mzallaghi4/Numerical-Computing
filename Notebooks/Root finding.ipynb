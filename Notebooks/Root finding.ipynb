{
 "cells": [
  {
   "cell_type": "markdown",
   "id": "8e8ef61b",
   "metadata": {},
   "source": [
    "# Root Finding\n",
    "\n",
    "Root finding is an important problem in numerical analysis and scientific computing. \n",
    "In Julia, there are several methods for finding roots of equations numerically. \n",
    "\n",
    "In this tutorial, we will cover some of the most commonly used methods. \n",
    "\n",
    "    \n",
    "### Bisection Method\n",
    "\n",
    "The bisection method is a simple and robust method for finding the root of a function.\n",
    "The basic idea is to repeatedly divide the interval containing the root into two equal subintervals and determine which subinterval contains the root."
   ]
  },
  {
   "cell_type": "code",
   "execution_count": 4,
   "id": "19f515cf",
   "metadata": {},
   "outputs": [
    {
     "data": {
      "text/plain": [
       "bisection (generic function with 1 method)"
      ]
     },
     "execution_count": 4,
     "metadata": {},
     "output_type": "execute_result"
    }
   ],
   "source": [
    "function bisection(f, a, b, tol)\n",
    "    # f: function to find root of\n",
    "    # a, b: interval containing root\n",
    "    # tol: tolerance for stopping criterion\n",
    "    \n",
    "    fa = f(a)\n",
    "    fb = f(b)\n",
    "    \n",
    "    if fa * fb > 0\n",
    "        error(\"f(a) and f(b) have same sign\")\n",
    "    end\n",
    "    \n",
    "    while b - a > tol\n",
    "        c = (a + b) / 2\n",
    "        fc = f(c)\n",
    "        if fc == 0\n",
    "            return c\n",
    "        elseif fa * fc < 0\n",
    "            b = c\n",
    "            fb = fc\n",
    "        else\n",
    "            a = c\n",
    "            fa = fc\n",
    "        end\n",
    "    end\n",
    "    \n",
    "    return (a + b) / 2\n",
    "end"
   ]
  },
  {
   "cell_type": "markdown",
   "id": "1b2690ea",
   "metadata": {},
   "source": [
    "Here, f is the function to find the root of, a and b are the endpoints of the interval containing the root, and tol is the tolerance for the stopping criterion. The function returns the approximate root of f within the specified tolerance."
   ]
  },
  {
   "cell_type": "markdown",
   "id": "67ccf1d8",
   "metadata": {},
   "source": [
    "### Newton's Method\n",
    "Newton's method is an iterative method for finding the root of a function. The basic idea is to start with an initial guess for the root and then iteratively improve the guess using the derivative of the function."
   ]
  },
  {
   "cell_type": "code",
   "execution_count": 5,
   "id": "ea2a1206",
   "metadata": {},
   "outputs": [
    {
     "data": {
      "text/plain": [
       "newton (generic function with 1 method)"
      ]
     },
     "execution_count": 5,
     "metadata": {},
     "output_type": "execute_result"
    }
   ],
   "source": [
    "function newton(f, df, x0, tol)\n",
    "    # f: function to find root of\n",
    "    # df: derivative of f\n",
    "    # x0: initial guess for root\n",
    "    # tol: tolerance for stopping criterion\n",
    "    \n",
    "    x = x0\n",
    "    \n",
    "    while abs(f(x)) > tol\n",
    "        x -= f(x) / df(x)\n",
    "    end\n",
    "    \n",
    "    return x\n",
    "end"
   ]
  },
  {
   "cell_type": "markdown",
   "id": "172bef27",
   "metadata": {},
   "source": [
    "Here, f is the function to find the root of, df is its derivative, x0 is the initial guess for the root, and tol is the tolerance for the stopping criterion. The function returns the approximate root of f within the specified tolerance."
   ]
  },
  {
   "cell_type": "markdown",
   "id": "2f6c2c22",
   "metadata": {},
   "source": [
    "### Secant Method\n",
    "The secant method is a variation of Newton's method that does not require the derivative of the function. The basic idea is to use a finite difference approximation of the derivative to improve the guess for the root."
   ]
  },
  {
   "cell_type": "code",
   "execution_count": 3,
   "id": "5ef68a30",
   "metadata": {},
   "outputs": [
    {
     "data": {
      "text/plain": [
       "secant (generic function with 1 method)"
      ]
     },
     "execution_count": 3,
     "metadata": {},
     "output_type": "execute_result"
    }
   ],
   "source": [
    "function secant(f, x0, x1, tol)\n",
    "    # f: function to find root of\n",
    "    # x0, x1: initial guesses for root\n",
    "    # tol: tolerance for stopping criterion\n",
    "    \n",
    "    while abs(f(x1)) > tol\n",
    "        x2 = x1 - f(x1) * (x1 - x0) / (f(x1) - f(x0))\n",
    "        x0 = x1\n",
    "        x1 = x2\n",
    "    end\n",
    "    \n",
    "    return x1\n",
    "end"
   ]
  },
  {
   "cell_type": "markdown",
   "id": "694dcf96",
   "metadata": {},
   "source": [
    "Here, f is the function to find the root of, x0 and x1 are the initial guesses for the root, and tol is the tolerance for the stopping criterion. The function returns the approximate root of f within the specified tolerance."
   ]
  }
 ],
 "metadata": {
  "kernelspec": {
   "display_name": "Julia 1.9.1",
   "language": "julia",
   "name": "julia-1.9"
  },
  "language_info": {
   "file_extension": ".jl",
   "mimetype": "application/julia",
   "name": "julia",
   "version": "1.9.1"
  }
 },
 "nbformat": 4,
 "nbformat_minor": 5
}
